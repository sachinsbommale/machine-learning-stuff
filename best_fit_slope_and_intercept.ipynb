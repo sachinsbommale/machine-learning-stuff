{
 "cells": [
  {
   "cell_type": "code",
   "execution_count": 4,
   "metadata": {},
   "outputs": [
    {
     "name": "stdout",
     "output_type": "stream",
     "text": [
      "0.190476190476 3.89285714286\n"
     ]
    },
    {
     "data": {
      "image/png": "iVBORw0KGgoAAAANSUhEUgAAAZ8AAAEJCAYAAABL3SrKAAAABHNCSVQICAgIfAhkiAAAAAlwSFlz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\nAAAAAElFTkSuQmCC\n",
      "text/plain": [
       "<matplotlib.figure.Figure at 0x1e735403b00>"
      ]
     },
     "metadata": {},
     "output_type": "display_data"
    }
   ],
   "source": [
    "from statistics import mean\n",
    "import numpy as np\n",
    "import matplotlib.pyplot as plt\n",
    "from matplotlib.pyplot import style\n",
    "\n",
    "style.use('fivethirtyeight')\n",
    "\n",
    #passing points manually
    "xs=np.array([1,2,3,4,5,6,7,8], dtype=np.float64)\n",
    "ys=np.array([4,5,4,4,6,4,5,6], dtype=np.float64)\n",
    "\n",
    #best fit slope and intercept
    "def best_fit_slope_and_intercept(x,y):\n",
    "    m=(((mean(xs)*mean(ys))-mean(xs*ys))/\n",          # m = (mean(x)mean(y)-mean(xy)) / ((mean(x)^2)-(mean(x^2)))
    "       ((mean(xs)**2)-(mean(xs**2))))\n",
    "    \n",
    "    b= mean(ys)-m*mean(xs)\n",                         # b = mean(y) - m* mean(x)
    "    \n",
    "    return m, b\n",
    "\n",
    "m,b=best_fit_slope_and_intercept(xs,ys)\n",
    "\n",
    #calculating regression line points
    "regression_line = [(m*x)+b for x in xs]\n",
    #predicting next point at x=some point(here 9) and y=m*x+b
    "predict_x = 9\n",
    "predict_y = (m*predict_x)+b\n",
    "\n",
    "print(m,b)\n",
    "\n",
    "plt.scatter(xs,ys)\n",
    "plt.scatter(predict_x,predict_y, color='r')\n",
    "plt.plot(xs,regression_line)\n",
    "plt.show()"
   ]
  },
  {
   "cell_type": "code",
   "execution_count": null,
   "metadata": {
    "collapsed": true
   },
   "outputs": [],
   "source": []
  }
 ],
 "metadata": {
  "kernelspec": {
   "display_name": "Python 3",
   "language": "python",
   "name": "python3"
  },
  "language_info": {
   "codemirror_mode": {
    "name": "ipython",
    "version": 3
   },
   "file_extension": ".py",
   "mimetype": "text/x-python",
   "name": "python",
   "nbconvert_exporter": "python",
   "pygments_lexer": "ipython3",
   "version": "3.6.1"
  }
 },
 "nbformat": 4,
 "nbformat_minor": 2
}
